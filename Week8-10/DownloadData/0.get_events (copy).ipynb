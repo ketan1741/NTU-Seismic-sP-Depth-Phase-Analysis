{
 "cells": [
  {
   "cell_type": "code",
   "execution_count": 1,
   "metadata": {},
   "outputs": [
    {
     "name": "stdout",
     "output_type": "stream",
     "text": [
      "2020 2022\n",
      "A total of 107 events~\n",
      "\n",
      "\n",
      "\n",
      "107\n"
     ]
    }
   ],
   "source": [
    "from obspy.clients.fdsn import Client\n",
    "from obspy import UTCDateTime\n",
    "import numpy as np\n",
    "\n",
    "from obspy.clients.fdsn.header import URL_MAPPINGS\n",
    "from contextlib import suppress\n",
    "\n",
    "# specify webservice\n",
    "client = Client('IRIS')\n",
    "\n",
    "# origin time: between start and end time\n",
    "# location: within a box region\n",
    "# depth: between min and max depths\n",
    "# magnitude: between min and mag magnitudes\n",
    "\n",
    "# 2000 - 2003\n",
    "# 2003 - 2005\n",
    "# 2005 - 2009\n",
    "# 2009 - 2010\n",
    "# 2010 - 2011\n",
    "# 2011 - 2013\n",
    "# 2013 - 2022\n",
    "\n",
    "#years = [2000, 2003, 2005, 2009, 2010, 2011, 2013, 2022]\n",
    "\n",
    "years = [2020, 2022]\n",
    "catalogs_list = []\n",
    "catalogs_total = 0\n",
    "#with suppress(Exception):\n",
    "\n",
    "for y in range(0, len(years)-1):\n",
    "    print(years[y], years[y+1])\n",
    "    start_time = str(years[y]) + \"-01-01T00:00:00.000\"\n",
    "    end_time = str(years[y+1]) + \"-01-01T00:00:00.000\"\n",
    "    catalog = client.get_events(starttime=UTCDateTime(start_time), \n",
    "                                endtime=UTCDateTime(end_time), \n",
    "                                minlatitude= -35, maxlatitude= -30,\n",
    "                                minlongitude= -78, maxlongitude= -62, \n",
    "                                mindepth=-5.0, maxdepth=20.0, minmagnitude=2.0, maxmagnitude=5.0)\n",
    "    \n",
    "    catalogs_list.append(catalog)\n",
    "    catalogs_total += catalog.count()\n",
    "\n",
    "    print(\"A total of {} events~\".format(catalog.count()))\n",
    "    print(\"\\n\\n\")\n",
    "\n",
    "print(catalogs_total)"
   ]
  },
  {
   "cell_type": "code",
   "execution_count": 2,
   "metadata": {
    "scrolled": true
   },
   "outputs": [
    {
     "name": "stdout",
     "output_type": "stream",
     "text": [
      "107\n",
      "\n",
      " 107\n"
     ]
    }
   ],
   "source": [
    "s = 0\n",
    "for cat in catalogs_list:\n",
    "    ca = cat.count()\n",
    "    s += ca\n",
    "    print(ca)\n",
    "\n",
    "print(\"\\n\",s)"
   ]
  },
  {
   "cell_type": "code",
   "execution_count": null,
   "metadata": {},
   "outputs": [],
   "source": []
  },
  {
   "cell_type": "code",
   "execution_count": 3,
   "metadata": {},
   "outputs": [],
   "source": [
    "# write to a text file\n",
    "#datadir = \"/home/tianjue/SPMS/NCA/Data\"\n",
    "\n",
    "datadir = \"/home/ketan/IndiaConnectNTU/Week5-6/DownloadData/Data\"\n",
    "with open(f\"{datadir}/events.csv\", \"w\") as f:\n",
    "    f.write(\"time, latitude, longitude, depth, depthUnits, magnitude, magnitudeType\\n\")\n",
    "    for cats in catalogs_list:\n",
    "        for ev in cats:\n",
    "            try:\n",
    "                origin = ev.preferred_origin().time\n",
    "                lon = ev.preferred_origin().longitude\n",
    "                lat = ev.preferred_origin().latitude\n",
    "                depth = ev.preferred_origin().depth / 1000.0  # convert to KILOMETER\n",
    "                evmg = ev.preferred_magnitude().mag\n",
    "                evmg_type = ev.preferred_magnitude().magnitude_type\n",
    "                f.write(\"{}Z, {:.5f}, {:.5f}, {:6.2f}, {}, {:5}, {}\\n\".format(origin.strftime(\"%Y-%m-%dT%H:%M:%S.%f\")[:-3], lat, lon, depth, \"KILOMETER\", evmg, evmg_type))\n",
    "            except:\n",
    "                pass"
   ]
  },
  {
   "cell_type": "code",
   "execution_count": 4,
   "metadata": {},
   "outputs": [],
   "source": [
    "# write to a text file\n",
    "#datadir = \"/home/tianjue/SPMS/NCA/Data\"\n",
    "\n",
    "datadir = \"/home/ketan/IndiaConnectNTU/Week5-6/DownloadData/Data\"\n",
    "with open(f\"{datadir}/events_all.csv\", \"w\") as f:\n",
    "    f.write(\"time, latitude, longitude, depth, depthUnits, magnitude, magnitudeType\\n\")\n",
    "    for cats in catalogs_list:\n",
    "        for ev in cats:\n",
    "            try:\n",
    "                origin = ev.preferred_origin().time\n",
    "            except:\n",
    "                origin = \"N/A\"\n",
    "                \n",
    "            try:\n",
    "                lon = ev.preferred_origin().longitude\n",
    "            except:\n",
    "                lon = 'N/A'\n",
    "            \n",
    "            try:\n",
    "                lat = ev.preferred_origin().latitude\n",
    "            except:\n",
    "                lat = 'N/A'\n",
    "            \n",
    "            try:\n",
    "                depth = ev.preferred_origin().depth / 1000.0  # convert to KILOMETER\n",
    "            except:\n",
    "                depth = 'N/A'\n",
    "            \n",
    "            try:\n",
    "                evmg = ev.preferred_magnitude().mag\n",
    "            except:\n",
    "                evmg = 'N/A'\n",
    "            \n",
    "            try:\n",
    "                evmg_type = ev.preferred_magnitude().magnitude_type\n",
    "            except:\n",
    "                evmg_type = 'N/A'\n",
    "            \n",
    "            f.write(\"{}Z, {:.5f}, {:.5f}, {:6.2f}, {}, {:5}, {}\\n\".format(origin.strftime(\"%Y-%m-%dT%H:%M:%S.%f\")[:-3], lat, lon, depth, \"KILOMETER\", evmg, evmg_type))"
   ]
  },
  {
   "cell_type": "code",
   "execution_count": 5,
   "metadata": {},
   "outputs": [
    {
     "data": {
      "text/plain": [
       "<bound method UTCDateTime.strftime of UTCDateTime(2020, 1, 2, 19, 49, 5, 645000)>"
      ]
     },
     "execution_count": 5,
     "metadata": {},
     "output_type": "execute_result"
    }
   ],
   "source": [
    "origin.strftime"
   ]
  },
  {
   "cell_type": "code",
   "execution_count": null,
   "metadata": {},
   "outputs": [],
   "source": []
  }
 ],
 "metadata": {
  "kernelspec": {
   "display_name": "Python 3 (ipykernel)",
   "language": "python",
   "name": "python3"
  },
  "language_info": {
   "codemirror_mode": {
    "name": "ipython",
    "version": 3
   },
   "file_extension": ".py",
   "mimetype": "text/x-python",
   "name": "python",
   "nbconvert_exporter": "python",
   "pygments_lexer": "ipython3",
   "version": "3.9.10"
  }
 },
 "nbformat": 4,
 "nbformat_minor": 4
}
